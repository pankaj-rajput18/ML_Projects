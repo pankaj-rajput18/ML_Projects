{
  "nbformat": 4,
  "nbformat_minor": 0,
  "metadata": {
    "colab": {
      "name": "Object_detection_cam.ipynb",
      "version": "0.3.2",
      "provenance": [],
      "collapsed_sections": []
    },
    "kernelspec": {
      "name": "python3",
      "display_name": "Python 3"
    },
    "accelerator": "GPU"
  },
  "cells": [
    {
      "cell_type": "code",
      "metadata": {
        "id": "Gz4q74CxlzdS",
        "colab_type": "code",
        "colab": {
          "base_uri": "https://localhost:8080/",
          "height": 54
        },
        "outputId": "45df9dde-1628-4961-e40e-552638d80372"
      },
      "source": [
        "from zipfile import ZipFile\n",
        "file_name = 'object_recognition_detection.zip'\n",
        "with ZipFile(file_name) as zip:\n",
        "  print('Extracting')\n",
        "  zip.extractall()\n",
        "  print('done')"
      ],
      "execution_count": 1,
      "outputs": [
        {
          "output_type": "stream",
          "text": [
            "Extracting\n",
            "done\n"
          ],
          "name": "stdout"
        }
      ]
    },
    {
      "cell_type": "code",
      "metadata": {
        "id": "GpjZAKVAodVB",
        "colab_type": "code",
        "colab": {}
      },
      "source": [
        "!rm -rf object_recognition_detection.zip"
      ],
      "execution_count": 0,
      "outputs": []
    },
    {
      "cell_type": "code",
      "metadata": {
        "id": "ibf_Lb-Po2aV",
        "colab_type": "code",
        "colab": {
          "base_uri": "https://localhost:8080/",
          "height": 35
        },
        "outputId": "fa2521f0-58ea-48ae-b988-3f9a5e8495cc"
      },
      "source": [
        "cd object_recognition_detection/\n"
      ],
      "execution_count": 7,
      "outputs": [
        {
          "output_type": "stream",
          "text": [
            "/content/object_recognition_detection\n"
          ],
          "name": "stdout"
        }
      ]
    },
    {
      "cell_type": "code",
      "metadata": {
        "id": "HIYySoP4o99o",
        "colab_type": "code",
        "colab": {}
      },
      "source": [
        "import numpy as np\n",
        "import os\n",
        "import six.moves.urllib as urllib\n",
        "import sys\n",
        "import tarfile\n",
        "import tensorflow as tf\n",
        "import zipfile\n",
        "\n",
        "from collections import defaultdict\n",
        "from io import StringIO\n",
        "from matplotlib import pyplot as plt\n",
        "from PIL import Image\n",
        "\n",
        "from object_recognition_detection.utils import label_map_util\n",
        "from object_recognition_detection.utils import visualization_utils as vis_util\n",
        "\n"
      ],
      "execution_count": 0,
      "outputs": []
    },
    {
      "cell_type": "code",
      "metadata": {
        "id": "NJsjkP8mpXz2",
        "colab_type": "code",
        "colab": {}
      },
      "source": [
        "# What model to download.\n",
        "# Models can bee found here: https://github.com/tensorflow/models/blob/master/research/object_detection/g3doc/detection_model_zoo.md\n",
        "\n",
        "MODEL_NAME = 'ssd_mobilenet_v1_coco_11_06_2017'\n",
        "MODEL_FILE = MODEL_NAME + '.tar.gz'\n",
        "DOWNLOAD_BASE = 'http://download.tensorflow.org/models/object_detection/'"
      ],
      "execution_count": 0,
      "outputs": []
    },
    {
      "cell_type": "code",
      "metadata": {
        "id": "amVnKq8rqcP9",
        "colab_type": "code",
        "colab": {}
      },
      "source": [
        "# Path to frozen detection graph. This is the actual model that is used for the object detection\n",
        "\n",
        "PATH_TO_CKPT = MODEL_NAME + '/frozen_inference_graph.pb'"
      ],
      "execution_count": 0,
      "outputs": []
    },
    {
      "cell_type": "code",
      "metadata": {
        "id": "VhKGhEA0qhsK",
        "colab_type": "code",
        "colab": {}
      },
      "source": [
        "PATH_TO_LABELS = os.path.join('data', 'mscoco_label_map.pbtxt')\n",
        "\n",
        "NUM_CLASSES = 90"
      ],
      "execution_count": 0,
      "outputs": []
    },
    {
      "cell_type": "code",
      "metadata": {
        "id": "cmzi7VqiqlYJ",
        "colab_type": "code",
        "colab": {
          "base_uri": "https://localhost:8080/",
          "height": 54
        },
        "outputId": "9c005a54-9acc-48e4-84ad-10f280d5b98e"
      },
      "source": [
        "# Download Model\n",
        "\n",
        "if not os.path.exists(MODEL_NAME + '/frozen_inference_graph.pb'):\n",
        "\tprint ('Downloading the model')\n",
        "\topener = urllib.request.URLopener()\n",
        "\topener.retrieve(DOWNLOAD_BASE + MODEL_FILE, MODEL_FILE)\n",
        "\ttar_file = tarfile.open(MODEL_FILE)\n",
        "\tfor file in tar_file.getmembers():\n",
        "\t  file_name = os.path.basename(file.name)\n",
        "\t  if 'frozen_inference_graph.pb' in file_name:\n",
        "\t    tar_file.extract(file, os.getcwd())\n",
        "\tprint ('Download complete')\n",
        "else:\n",
        "\tprint ('Model already exists')"
      ],
      "execution_count": 12,
      "outputs": [
        {
          "output_type": "stream",
          "text": [
            "Downloading the model\n",
            "Download complete\n"
          ],
          "name": "stdout"
        }
      ]
    },
    {
      "cell_type": "code",
      "metadata": {
        "id": "14uFqkbZqsW8",
        "colab_type": "code",
        "colab": {}
      },
      "source": [
        "# Load a (frozen) Tensorflow model into memory.\n",
        "\n",
        "detection_graph = tf.Graph()\n",
        "with detection_graph.as_default():\n",
        "  od_graph_def = tf.GraphDef()\n",
        "  with tf.gfile.GFile(PATH_TO_CKPT, 'rb') as fid:\n",
        "    serialized_graph = fid.read()\n",
        "    od_graph_def.ParseFromString(serialized_graph)\n",
        "    tf.import_graph_def(od_graph_def, name='')"
      ],
      "execution_count": 0,
      "outputs": []
    },
    {
      "cell_type": "code",
      "metadata": {
        "id": "JSSm7uQoq0vH",
        "colab_type": "code",
        "colab": {
          "base_uri": "https://localhost:8080/",
          "height": 92
        },
        "outputId": "cc19cd0e-72be-488d-ee8c-4aa217ab4d65"
      },
      "source": [
        "label_map = label_map_util.load_labelmap(PATH_TO_LABELS)\n",
        "categories = label_map_util.convert_label_map_to_categories(label_map, max_num_classes=NUM_CLASSES, use_display_name=True)\n",
        "category_index = label_map_util.create_category_index(categories)"
      ],
      "execution_count": 14,
      "outputs": [
        {
          "output_type": "stream",
          "text": [
            "WARNING: Logging before flag parsing goes to stderr.\n",
            "W0730 06:37:18.094777 140018387310464 deprecation_wrapper.py:119] From /content/object_recognition_detection/utils/label_map_util.py:116: The name tf.gfile.GFile is deprecated. Please use tf.io.gfile.GFile instead.\n",
            "\n"
          ],
          "name": "stderr"
        }
      ]
    },
    {
      "cell_type": "code",
      "metadata": {
        "id": "Rsh_DqoOrPur",
        "colab_type": "code",
        "colab": {}
      },
      "source": [
        "# Define the video stream\n",
        "\n",
        "import cv2\n",
        "cap = cv2.VideoCapture(0)"
      ],
      "execution_count": 0,
      "outputs": []
    },
    {
      "cell_type": "code",
      "metadata": {
        "id": "9BMt6lgJrXBx",
        "colab_type": "code",
        "colab": {}
      },
      "source": [
        "with detection_graph.as_default():\n",
        "  with tf.Session(graph=detection_graph) as sess:\n",
        "    ret = True\n",
        "    while (ret):\n",
        "      \n",
        "       # Read frame from camera\n",
        "      ret,image_np = cap.read()\n",
        "      \n",
        "      # Expand dimensions since the model expects images to have shape: [1, None, None, 3]\n",
        "      image_np_expanded = np.expand_dims(image_np, axis=0)\n",
        "      image_tensor = detection_graph.get_tensor_by_name('image_tensor:0')\n",
        "      \n",
        "      # Each box represents a part of the image where a particular object was detected.\n",
        "      boxes = detection_graph.get_tensor_by_name('detection_boxes:0')\n",
        "      \n",
        "      # Each score represent how level of confidence for each of the objects.\n",
        "      # Score is shown on the result image, together with the class label.\n",
        "      scores = detection_graph.get_tensor_by_name('detection_scores:0')\n",
        "      classes = detection_graph.get_tensor_by_name('detection_classes:0')\n",
        "      num_detections = detection_graph.get_tensor_by_name('num_detections:0')\n",
        "      \n",
        "      # Actual detection.\n",
        "      (boxes, scores, classes, num_detections) = sess.run(\n",
        "          [boxes, scores, classes, num_detections],\n",
        "          feed_dict={image_tensor: image_np_expanded})\n",
        "      \n",
        "      # Visualization of the results of a detection.\n",
        "      vis_util.visualize_boxes_and_labels_on_image_array( image_np,\n",
        "                                                             np.squeeze(boxes),\n",
        "                                                             np.squeeze(classes).astype(np.int32),\n",
        "                                                             np.squeeze(scores),\n",
        "                                                             category_index,\n",
        "                                                             use_normalized_coordinates=True,\n",
        "                                                             line_thickness=8)\n",
        "      \n",
        "      # window is closed after pressing 'q'\n",
        "      cv2.imshow('image',cv2.resize(image_np,(1280,960)))\n",
        "      if cv2.waitKey(25) & 0xFF == ord('q'):\n",
        "        cv2.destroyAllWindows()\n",
        "        cap.release()\n",
        "        break\n",
        "        "
      ],
      "execution_count": 0,
      "outputs": []
    },
    {
      "cell_type": "code",
      "metadata": {
        "id": "S87-V-NIuJZu",
        "colab_type": "code",
        "colab": {}
      },
      "source": [
        ""
      ],
      "execution_count": 0,
      "outputs": []
    }
  ]
}