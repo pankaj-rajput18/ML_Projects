{
 "cells": [
  {
   "cell_type": "code",
   "execution_count": 0,
   "metadata": {
    "colab": {},
    "colab_type": "code",
    "collapsed": true,
    "id": "MpeH0wlUShju"
   },
   "outputs": [],
   "source": [
    "import tensorflow as tf"
   ]
  },
  {
   "cell_type": "code",
   "execution_count": 0,
   "metadata": {
    "colab": {},
    "colab_type": "code",
    "collapsed": true,
    "id": "g1NY5CaDS7EE"
   },
   "outputs": [],
   "source": [
    "from tensorflow.examples.tutorials.mnist import input_data"
   ]
  },
  {
   "cell_type": "code",
   "execution_count": 0,
   "metadata": {
    "colab": {},
    "colab_type": "code",
    "collapsed": true,
    "id": "lA9aydaJTVLk"
   },
   "outputs": [],
   "source": [
    "mnist = input_data.read_data_sets(\"MNIST_Data\",one_hot=True)"
   ]
  },
  {
   "cell_type": "code",
   "execution_count": 0,
   "metadata": {
    "colab": {},
    "colab_type": "code",
    "collapsed": true,
    "id": "4XFvUR_2rE15"
   },
   "outputs": [],
   "source": [
    "def init_weights(shape):\n",
    "  init_random_wt = tf.truncated_normal(shape,stddev=0.1)\n",
    "  return tf.Variable(init_random_wt)"
   ]
  },
  {
   "cell_type": "code",
   "execution_count": 0,
   "metadata": {
    "colab": {},
    "colab_type": "code",
    "collapsed": true,
    "id": "WQH1Q1_4xU6f"
   },
   "outputs": [],
   "source": [
    "def init_bias(shape):\n",
    "  init_b = tf.constant(0.1,shape=shape)\n",
    "  return tf.Variable(init_b)\n",
    "  "
   ]
  },
  {
   "cell_type": "code",
   "execution_count": 0,
   "metadata": {
    "colab": {},
    "colab_type": "code",
    "collapsed": true,
    "id": "VKwmaWkrytTA"
   },
   "outputs": [],
   "source": [
    "def conv2d(x,W):\n",
    "  return tf.nn.conv2d(x, W, strides=[1,1,1,1], padding='SAME')"
   ]
  },
  {
   "cell_type": "code",
   "execution_count": 0,
   "metadata": {
    "colab": {},
    "colab_type": "code",
    "collapsed": true,
    "id": "6W_dYyo8zfiW"
   },
   "outputs": [],
   "source": [
    "def max_pool_2by2(x):\n",
    "  return tf.nn.max_pool(x,ksize=[1,2,2,1], strides=[1,2,2,1], padding='SAME')"
   ]
  },
  {
   "cell_type": "code",
   "execution_count": 0,
   "metadata": {
    "colab": {},
    "colab_type": "code",
    "collapsed": true,
    "id": "AgTopofc0FbW"
   },
   "outputs": [],
   "source": [
    "def convolutional_layer(input_x,shape):\n",
    "  W = init_weights(shape)\n",
    "  b = init_bias([shape[3]])\n",
    "  return tf.nn.relu(conv2d(input_x, W)+ b)"
   ]
  },
  {
   "cell_type": "code",
   "execution_count": 0,
   "metadata": {
    "colab": {},
    "colab_type": "code",
    "collapsed": true,
    "id": "fgzZv3cC0dwy"
   },
   "outputs": [],
   "source": [
    "def normal_full_layer(input_layer,size):\n",
    "  input_size = int(input_layer.get_shape()[1])\n",
    "  W = init_weights([input_size, size])\n",
    "  b = init_bias([size])\n",
    "  return tf.matmul(input_layer, W) + b"
   ]
  },
  {
   "cell_type": "code",
   "execution_count": 0,
   "metadata": {
    "colab": {},
    "colab_type": "code",
    "collapsed": true,
    "id": "EuhczC_n18uW"
   },
   "outputs": [],
   "source": [
    "x = tf.placeholder(tf.float32,shape=[None,784])"
   ]
  },
  {
   "cell_type": "code",
   "execution_count": 0,
   "metadata": {
    "colab": {},
    "colab_type": "code",
    "collapsed": true,
    "id": "lTNF8I3B2T8H"
   },
   "outputs": [],
   "source": [
    "y_true = tf.placeholder(tf.float32,shape=[None,10])"
   ]
  },
  {
   "cell_type": "code",
   "execution_count": 0,
   "metadata": {
    "colab": {},
    "colab_type": "code",
    "collapsed": true,
    "id": "oTmoWEJ42sHx"
   },
   "outputs": [],
   "source": [
    "x_image = tf.reshape(x,[-1,28,28,1])"
   ]
  },
  {
   "cell_type": "code",
   "execution_count": 0,
   "metadata": {
    "colab": {},
    "colab_type": "code",
    "collapsed": true,
    "id": "GcjaZfQf25rq"
   },
   "outputs": [],
   "source": [
    "convo_1 = convolutional_layer(x_image,shape=[6,6,1,32])\n",
    "convo_1_pooling = max_pool_2by2(convo_1)\n",
    "\n"
   ]
  },
  {
   "cell_type": "code",
   "execution_count": 0,
   "metadata": {
    "colab": {},
    "colab_type": "code",
    "collapsed": true,
    "id": "NnVUJU-M3tiE"
   },
   "outputs": [],
   "source": [
    "convo_2 = convolutional_layer(convo_1_pooling,shape=[6,6,32,64])\n",
    "convo_2_pooling = max_pool_2by2(convo_2)"
   ]
  },
  {
   "cell_type": "code",
   "execution_count": 0,
   "metadata": {
    "colab": {},
    "colab_type": "code",
    "collapsed": true,
    "id": "LYMNe-5wO0_V"
   },
   "outputs": [],
   "source": [
    "convo_2_flat = tf.reshape(convo_2_pooling,[-1,7*7*64])\n",
    "full_layer_one = tf.nn.relu(normal_full_layer(convo_2_flat,1024))"
   ]
  },
  {
   "cell_type": "code",
   "execution_count": 0,
   "metadata": {
    "colab": {},
    "colab_type": "code",
    "collapsed": true,
    "id": "ciTyBhU-Syux"
   },
   "outputs": [],
   "source": [
    "hold_prob = tf.placeholder(tf.float32)\n",
    "full_one_dropout = tf.nn.dropout(full_layer_one,keep_prob=hold_prob)"
   ]
  },
  {
   "cell_type": "code",
   "execution_count": 0,
   "metadata": {
    "colab": {},
    "colab_type": "code",
    "collapsed": true,
    "id": "H_hPATe_TpE2"
   },
   "outputs": [],
   "source": [
    "y_pred = normal_full_layer(full_one_dropout,10)"
   ]
  },
  {
   "cell_type": "code",
   "execution_count": 0,
   "metadata": {
    "colab": {},
    "colab_type": "code",
    "collapsed": true,
    "id": "vW4NFPBrUCo8"
   },
   "outputs": [],
   "source": [
    "cross_entropy = tf.reduce_mean(tf.nn.softmax_cross_entropy_with_logits(labels=y_true,logits=y_pred))"
   ]
  },
  {
   "cell_type": "code",
   "execution_count": 0,
   "metadata": {
    "colab": {},
    "colab_type": "code",
    "collapsed": true,
    "id": "6avHcNPuUMdr"
   },
   "outputs": [],
   "source": [
    "optimizer = tf.train.AdamOptimizer(learning_rate=0.01)\n",
    "train = optimizer.minimize(cross_entropy)"
   ]
  },
  {
   "cell_type": "code",
   "execution_count": 0,
   "metadata": {
    "colab": {},
    "colab_type": "code",
    "collapsed": true,
    "id": "MWnmXbJyUcuY"
   },
   "outputs": [],
   "source": [
    "init = tf.global_variables_initializer()"
   ]
  },
  {
   "cell_type": "code",
   "execution_count": 60,
   "metadata": {
    "colab": {
     "base_uri": "https://localhost:8080/",
     "height": 1000
    },
    "colab_type": "code",
    "collapsed": false,
    "id": "rxoqmbUnUhzx",
    "outputId": "69f90ce5-1818-4d3a-c738-e10c4cc24ab3"
   },
   "outputs": [
    {
     "name": "stdout",
     "output_type": "stream",
     "text": [
      "Currently on step 0\n",
      "Accuracy is:\n",
      "0.101\n",
      "\n",
      "\n",
      "Currently on step 10\n",
      "Accuracy is:\n",
      "0.1109\n",
      "\n",
      "\n",
      "Currently on step 20\n",
      "Accuracy is:\n",
      "0.1778\n",
      "\n",
      "\n",
      "Currently on step 30\n",
      "Accuracy is:\n",
      "0.5194\n",
      "\n",
      "\n",
      "Currently on step 40\n",
      "Accuracy is:\n",
      "0.6366\n",
      "\n",
      "\n",
      "Currently on step 50\n",
      "Accuracy is:\n",
      "0.7378\n",
      "\n",
      "\n",
      "Currently on step 60\n",
      "Accuracy is:\n",
      "0.7633\n",
      "\n",
      "\n",
      "Currently on step 70\n",
      "Accuracy is:\n",
      "0.8089\n",
      "\n",
      "\n",
      "Currently on step 80\n",
      "Accuracy is:\n",
      "0.8331\n",
      "\n",
      "\n",
      "Currently on step 90\n",
      "Accuracy is:\n",
      "0.8649\n",
      "\n",
      "\n",
      "Currently on step 100\n",
      "Accuracy is:\n",
      "0.884\n",
      "\n",
      "\n",
      "Currently on step 110\n",
      "Accuracy is:\n",
      "0.8755\n",
      "\n",
      "\n",
      "Currently on step 120\n",
      "Accuracy is:\n",
      "0.8922\n",
      "\n",
      "\n",
      "Currently on step 130\n",
      "Accuracy is:\n",
      "0.8996\n",
      "\n",
      "\n",
      "Currently on step 140\n",
      "Accuracy is:\n",
      "0.9168\n",
      "\n",
      "\n",
      "Currently on step 150\n",
      "Accuracy is:\n",
      "0.915\n",
      "\n",
      "\n",
      "Currently on step 160\n",
      "Accuracy is:\n",
      "0.9154\n",
      "\n",
      "\n",
      "Currently on step 170\n",
      "Accuracy is:\n",
      "0.9125\n",
      "\n",
      "\n",
      "Currently on step 180\n",
      "Accuracy is:\n",
      "0.9168\n",
      "\n",
      "\n",
      "Currently on step 190\n",
      "Accuracy is:\n",
      "0.9191\n",
      "\n",
      "\n",
      "Currently on step 200\n",
      "Accuracy is:\n",
      "0.9277\n",
      "\n",
      "\n"
     ]
    }
   ],
   "source": [
    "steps = 210\n",
    "\n",
    "with tf.Session() as sess:\n",
    "  \n",
    "  sess.run(init)\n",
    "  \n",
    "  for i in range(steps):\n",
    "    \n",
    "    batch_x , batch_y = mnist.train.next_batch(50)\n",
    "    \n",
    "    sess.run(train,feed_dict={x:batch_x,y_true:batch_y,hold_prob:0.5})\n",
    "    \n",
    "    if i%10 == 0:\n",
    "      print('Currently on step {}'.format(i))\n",
    "      print('Accuracy is:')\n",
    "      \n",
    "      matches = tf.equal(tf.argmax(y_pred,1),tf.argmax(y_true,1))\n",
    "      \n",
    "      acc = tf.reduce_mean(tf.cast(matches,tf.float32))\n",
    "      \n",
    "      print(sess.run(acc,feed_dict={x:mnist.test.images,y_true:mnist.test.labels,hold_prob:1.0}))\n",
    "      print('\\n')"
   ]
  },
  {
   "cell_type": "markdown",
   "metadata": {
    "colab": {},
    "colab_type": "code",
    "id": "-4BZFF9mVnyx"
   },
   "source": [
    "### If we take no. of steps more then accuracy will also increse"
   ]
  },
  {
   "cell_type": "code",
   "execution_count": null,
   "metadata": {
    "collapsed": true
   },
   "outputs": [],
   "source": []
  }
 ],
 "metadata": {
  "accelerator": "GPU",
  "colab": {
   "name": "mnist_digit.ipynb",
   "provenance": [],
   "version": "0.3.2"
  },
  "kernelspec": {
   "display_name": "Python 3",
   "language": "python",
   "name": "python3"
  },
  "language_info": {
   "codemirror_mode": {
    "name": "ipython",
    "version": 3
   },
   "file_extension": ".py",
   "mimetype": "text/x-python",
   "name": "python",
   "nbconvert_exporter": "python",
   "pygments_lexer": "ipython3",
   "version": "3.5.6"
  }
 },
 "nbformat": 4,
 "nbformat_minor": 0
}
